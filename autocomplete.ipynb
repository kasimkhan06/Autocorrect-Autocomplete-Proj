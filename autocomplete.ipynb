{
 "cells": [
  {
   "cell_type": "code",
   "execution_count": 223,
   "metadata": {},
   "outputs": [],
   "source": [
    "from collections import defaultdict\n",
    "import nltk\n",
    "from nltk.tokenize import word_tokenize\n",
    "from nltk.corpus import stopwords\n",
    "import string"
   ]
  },
  {
   "cell_type": "markdown",
   "metadata": {},
   "source": [
    "Data Preprocessing"
   ]
  },
  {
   "cell_type": "code",
   "execution_count": 224,
   "metadata": {},
   "outputs": [],
   "source": [
    "#text preprocesing \n",
    "#step 1 : read the file\n",
    "with open('gutenberg_corpus.txt', 'r' , encoding='utf-8') as file:\n",
    "    text  = file.read()"
   ]
  },
  {
   "cell_type": "code",
   "execution_count": 225,
   "metadata": {},
   "outputs": [],
   "source": [
    "#tokenize and normalize\n",
    "tokens = word_tokenize(text)\n",
    "#remove punctuations\n",
    "filtered_tokens = [word for word in tokens if any(char.isalnum() for char in word)]"
   ]
  },
  {
   "cell_type": "code",
   "execution_count": 226,
   "metadata": {},
   "outputs": [],
   "source": [
    "def preprocess_word(word):\n",
    "    # Remove punctuation within words\n",
    "    word = ''.join(char for char in word if char not in string.punctuation)\n",
    "    # Normalize by converting to lowercase\n",
    "    word = word.lower()\n",
    "    return word"
   ]
  },
  {
   "cell_type": "code",
   "execution_count": 227,
   "metadata": {},
   "outputs": [],
   "source": [
    "#remove stop words\n",
    "stop_words = set(stopwords.words('english'))\n",
    "filtered_words = [word for word in filtered_tokens if word not in stop_words]\n",
    "\n",
    "words  = [preprocess_word(word) for word in filtered_words]\n",
    "words = [word.lower() for word in words]"
   ]
  },
  {
   "cell_type": "code",
   "execution_count": 228,
   "metadata": {},
   "outputs": [],
   "source": [
    "def create_word_occurences_map(words):\n",
    "    word_occurences = {}\n",
    "    for word in words:\n",
    "        if word in word_occurences:\n",
    "            word_occurences[word] += 1\n",
    "        else :\n",
    "            word_occurences[word] = 1\n",
    "    return word_occurences"
   ]
  },
  {
   "cell_type": "code",
   "execution_count": 229,
   "metadata": {},
   "outputs": [],
   "source": [
    "def create_probability_map(word_occurrences_map):\n",
    "    total_occurrences = sum(word_occurrences_map.values())\n",
    "    probability_map = {word: occurrences / total_occurrences for word, occurrences in word_occurrences_map.items()}\n",
    "    return probability_map"
   ]
  },
  {
   "cell_type": "code",
   "execution_count": 230,
   "metadata": {},
   "outputs": [],
   "source": [
    "#things which we will use , final\n",
    "word_occurrences = create_word_occurences_map(words)\n",
    "word_probability = create_probability_map(word_occurrences)"
   ]
  },
  {
   "cell_type": "markdown",
   "metadata": {},
   "source": [
    "BUILDING THE TRIE FOR AUTOCOMPLETE"
   ]
  },
  {
   "cell_type": "code",
   "execution_count": 231,
   "metadata": {},
   "outputs": [],
   "source": [
    "class TrieNode:\n",
    "    def __init__(self):\n",
    "        self.children = defaultdict(TrieNode)\n",
    "        self.is_end_of_word = False"
   ]
  },
  {
   "cell_type": "code",
   "execution_count": 232,
   "metadata": {},
   "outputs": [],
   "source": [
    "class Trie:\n",
    "    def __init__(self):\n",
    "        self.root = TrieNode()\n",
    "    \n",
    "    def insert(self, word):\n",
    "        node = self.root\n",
    "        for char in word:\n",
    "            if char not in node.children:\n",
    "                node.children[char] = TrieNode()\n",
    "            node = node.children[char]\n",
    "        node.is_end_of_word = True\n",
    "    \n",
    "    def search(self, prefix):\n",
    "        if not self.root.children:\n",
    "            return []\n",
    "        \n",
    "        node = self.root\n",
    "        for char in prefix:\n",
    "            if char not in node.children:\n",
    "                return []\n",
    "            node = node.children[char]\n",
    "        return self._get_words_with_prefix(node, prefix)\n",
    "    \n",
    "    def _get_words_with_prefix(self, node, prefix):\n",
    "        words = []\n",
    "        if node.is_end_of_word:\n",
    "            words.append(prefix)\n",
    "        for char, child_node in node.children.items():\n",
    "            words.extend(self._get_words_with_prefix(child_node, prefix + char))\n",
    "        return words"
   ]
  },
  {
   "cell_type": "code",
   "execution_count": 233,
   "metadata": {},
   "outputs": [],
   "source": [
    "words = list(word_occurrences.keys()) # words to insert in the trie"
   ]
  },
  {
   "cell_type": "markdown",
   "metadata": {},
   "source": [
    "Insert the words in the trie"
   ]
  },
  {
   "cell_type": "code",
   "execution_count": 234,
   "metadata": {},
   "outputs": [],
   "source": [
    "trie = Trie()\n",
    "for word in words:\n",
    "    trie.insert(word)"
   ]
  },
  {
   "cell_type": "code",
   "execution_count": 251,
   "metadata": {},
   "outputs": [
    {
     "data": {
      "text/plain": [
       "[('heaven', 0.000988008439132923),\n",
       " ('heavy', 0.00017948396666339305),\n",
       " ('heavens', 0.00016678462939947374),\n",
       " ('heavenly', 8.127575848908364e-05),\n",
       " ('heave', 4.23311242130644e-05),\n",
       " ('heavily', 3.1325031917667655e-05),\n",
       " ('heaved', 1.7779072169487048e-05),\n",
       " ('heaving', 1.7779072169487048e-05),\n",
       " ('heavier', 1.5239204716703185e-05),\n",
       " ('heaviness', 1.269933726391932e-05),\n",
       " ('heaviest', 5.926357389829016e-06),\n",
       " ('heavengate', 4.23311242130644e-06),\n",
       " ('heaves', 2.539867452783864e-06),\n",
       " ('heavengates', 1.6932449685225761e-06),\n",
       " ('heavers', 1.6932449685225761e-06),\n",
       " ('heaveto', 1.6932449685225761e-06),\n",
       " ('heav', 8.466224842612881e-07),\n",
       " ('heavenlyborn', 8.466224842612881e-07),\n",
       " ('heaveninsulting', 8.466224842612881e-07),\n",
       " ('heavenabiding', 8.466224842612881e-07),\n",
       " ('heavenambitious', 8.466224842612881e-07),\n",
       " ('heavengazer', 8.466224842612881e-07),\n",
       " ('heavenwarring', 8.466224842612881e-07),\n",
       " ('heavenward', 8.466224842612881e-07),\n",
       " ('heavenbanished', 8.466224842612881e-07),\n",
       " ('heavenfallen', 8.466224842612881e-07),\n",
       " ('heaventowers', 8.466224842612881e-07),\n",
       " ('heavenclouds', 8.466224842612881e-07),\n",
       " ('heavyfaced', 8.466224842612881e-07),\n",
       " ('heavyfringed', 8.466224842612881e-07),\n",
       " ('heavylooking', 8.466224842612881e-07),\n",
       " ('heavylipp', 8.466224842612881e-07),\n",
       " ('heavyhearted', 8.466224842612881e-07),\n",
       " ('heavyplank', 8.466224842612881e-07)]"
      ]
     },
     "execution_count": 251,
     "metadata": {},
     "output_type": "execute_result"
    }
   ],
   "source": [
    "#find the suggestions\n",
    "suggestions = trie.search('heav')\n",
    "#build the suggestions probability map\n",
    "suggestions_probability = {}\n",
    "for sugg in suggestions:\n",
    "    suggestions_probability[sugg] = word_probability[sugg]\n",
    "\n",
    "sorted_suggested_words = sorted(suggestions_probability.items(), key=lambda x: x[1], reverse=True)\n",
    "sorted_suggested_words"
   ]
  }
 ],
 "metadata": {
  "kernelspec": {
   "display_name": "env",
   "language": "python",
   "name": "python3"
  },
  "language_info": {
   "codemirror_mode": {
    "name": "ipython",
    "version": 3
   },
   "file_extension": ".py",
   "mimetype": "text/x-python",
   "name": "python",
   "nbconvert_exporter": "python",
   "pygments_lexer": "ipython3",
   "version": "3.10.11"
  }
 },
 "nbformat": 4,
 "nbformat_minor": 2
}
