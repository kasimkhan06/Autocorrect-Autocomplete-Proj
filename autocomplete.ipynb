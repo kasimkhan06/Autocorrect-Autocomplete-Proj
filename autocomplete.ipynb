{
 "cells": [
  {
   "cell_type": "code",
   "execution_count": 1,
   "metadata": {},
   "outputs": [],
   "source": [
    "from collections import defaultdict\n",
    "import nltk\n",
    "from nltk.tokenize import word_tokenize\n",
    "from nltk.corpus import stopwords\n",
    "import string"
   ]
  },
  {
   "cell_type": "markdown",
   "metadata": {},
   "source": [
    "Data Preprocessing"
   ]
  },
  {
   "cell_type": "code",
   "execution_count": 2,
   "metadata": {},
   "outputs": [],
   "source": [
    "#text preprocesing \n",
    "#step 1 : read the file\n",
    "with open('gutenberg_corpus.txt', 'r' , encoding='utf-8') as file:\n",
    "    text  = file.read()"
   ]
  },
  {
   "cell_type": "code",
   "execution_count": 3,
   "metadata": {},
   "outputs": [],
   "source": [
    "#tokenize and normalize\n",
    "tokens = word_tokenize(text)\n",
    "#remove punctuations\n",
    "filtered_tokens = [word for word in tokens if any(char.isalnum() for char in word)]"
   ]
  },
  {
   "cell_type": "code",
   "execution_count": 4,
   "metadata": {},
   "outputs": [],
   "source": [
    "def preprocess_word(word):\n",
    "    # Remove punctuation within words\n",
    "    word = ''.join(char for char in word if char not in string.punctuation)\n",
    "    # Normalize by converting to lowercase\n",
    "    word = word.lower()\n",
    "    return word"
   ]
  },
  {
   "cell_type": "code",
   "execution_count": 5,
   "metadata": {},
   "outputs": [],
   "source": [
    "#remove stop words\n",
    "stop_words = set(stopwords.words('english'))\n",
    "filtered_words = [word for word in filtered_tokens if word not in stop_words]\n",
    "\n",
    "words  = [preprocess_word(word) for word in filtered_words]\n",
    "words = [word.lower() for word in words]"
   ]
  },
  {
   "cell_type": "code",
   "execution_count": null,
   "metadata": {},
   "outputs": [],
   "source": [
    "with open('preprocessed_corpus.txt', 'w') as file:\n",
    "    # Write each word to the file\n",
    "    for word in words:\n",
    "        file.write(word + '\\n')"
   ]
  },
  {
   "cell_type": "code",
   "execution_count": 6,
   "metadata": {},
   "outputs": [],
   "source": [
    "def create_word_occurences_map(words):\n",
    "    word_occurences = {}\n",
    "    for word in words:\n",
    "        if word in word_occurences:\n",
    "            word_occurences[word] += 1\n",
    "        else :\n",
    "            word_occurences[word] = 1\n",
    "    return word_occurences"
   ]
  },
  {
   "cell_type": "code",
   "execution_count": 7,
   "metadata": {},
   "outputs": [],
   "source": [
    "def create_probability_map(word_occurrences_map):\n",
    "    total_occurrences = sum(word_occurrences_map.values())\n",
    "    probability_map = {word: occurrences / total_occurrences for word, occurrences in word_occurrences_map.items()}\n",
    "    return probability_map"
   ]
  },
  {
   "cell_type": "code",
   "execution_count": 8,
   "metadata": {},
   "outputs": [],
   "source": [
    "#things which we will use , final\n",
    "word_occurrences = create_word_occurences_map(words)\n",
    "word_probability = create_probability_map(word_occurrences)"
   ]
  },
  {
   "cell_type": "markdown",
   "metadata": {},
   "source": [
    "BUILDING THE TRIE FOR AUTOCOMPLETE"
   ]
  },
  {
   "cell_type": "code",
   "execution_count": 9,
   "metadata": {},
   "outputs": [],
   "source": [
    "class TrieNode:\n",
    "    def __init__(self):\n",
    "        self.children = defaultdict(TrieNode)\n",
    "        self.is_end_of_word = False"
   ]
  },
  {
   "cell_type": "code",
   "execution_count": 10,
   "metadata": {},
   "outputs": [],
   "source": [
    "class Trie:\n",
    "    def __init__(self):\n",
    "        self.root = TrieNode()\n",
    "    \n",
    "    def insert(self, word):\n",
    "        node = self.root\n",
    "        for char in word:\n",
    "            if char not in node.children:\n",
    "                node.children[char] = TrieNode()\n",
    "            node = node.children[char]\n",
    "        node.is_end_of_word = True\n",
    "    \n",
    "    def search(self, prefix):\n",
    "        if not self.root.children:\n",
    "            return []\n",
    "        \n",
    "        node = self.root\n",
    "        for char in prefix:\n",
    "            if char not in node.children:\n",
    "                return []\n",
    "            node = node.children[char]\n",
    "        return self._get_words_with_prefix(node, prefix)\n",
    "    \n",
    "    def _get_words_with_prefix(self, node, prefix):\n",
    "        words = []\n",
    "        if node.is_end_of_word:\n",
    "            words.append(prefix)\n",
    "        for char, child_node in node.children.items():\n",
    "            words.extend(self._get_words_with_prefix(child_node, prefix + char))\n",
    "        return words"
   ]
  },
  {
   "cell_type": "code",
   "execution_count": 11,
   "metadata": {},
   "outputs": [],
   "source": [
    "words = list(word_occurrences.keys()) # words to insert in the trie"
   ]
  },
  {
   "cell_type": "markdown",
   "metadata": {},
   "source": [
    "Insert the words in the trie"
   ]
  },
  {
   "cell_type": "code",
   "execution_count": 12,
   "metadata": {},
   "outputs": [],
   "source": [
    "trie = Trie()\n",
    "for word in words:\n",
    "    trie.insert(word)"
   ]
  },
  {
   "cell_type": "code",
   "execution_count": 13,
   "metadata": {},
   "outputs": [
    {
     "data": {
      "text/plain": [
       "[('heaven', 0.0007530062226164903),\n",
       " ('heavy', 0.00013732048409016476),\n",
       " ('heavens', 0.00012765002746409682),\n",
       " ('heavenly', 6.253561951523934e-05),\n",
       " ('heave', 3.2879552528631e-05),\n",
       " ('heavily', 2.4498490119372118e-05),\n",
       " ('heaved', 1.4183336384899646e-05),\n",
       " ('heaving', 1.4183336384899646e-05),\n",
       " ('heavier', 1.2249245059686059e-05),\n",
       " ('heaviness', 1.031515373447247e-05),\n",
       " ('heaviest', 5.157576867236235e-06),\n",
       " ('heavengate', 3.223485542022647e-06),\n",
       " ('heaves', 2.5787884336181177e-06),\n",
       " ('heavers', 1.9340913252135883e-06),\n",
       " ('heavengates', 1.2893942168090588e-06),\n",
       " ('heavenward', 1.2893942168090588e-06),\n",
       " ('heaveto', 1.2893942168090588e-06),\n",
       " ('heavyhearted', 1.2893942168090588e-06),\n",
       " ('heav', 6.446971084045294e-07),\n",
       " ('heavenlyborn', 6.446971084045294e-07),\n",
       " ('heavenless', 6.446971084045294e-07),\n",
       " ('heavenlier', 6.446971084045294e-07),\n",
       " ('heavenliest', 6.446971084045294e-07),\n",
       " ('heavenlike', 6.446971084045294e-07),\n",
       " ('heavenliness', 6.446971084045294e-07),\n",
       " ('heaveninsulting', 6.446971084045294e-07),\n",
       " ('heavenish', 6.446971084045294e-07),\n",
       " ('heavenishly', 6.446971084045294e-07),\n",
       " ('heavenize', 6.446971084045294e-07),\n",
       " ('heavenabiding', 6.446971084045294e-07),\n",
       " ('heavenambitious', 6.446971084045294e-07),\n",
       " ('heavengazer', 6.446971084045294e-07),\n",
       " ('heavenwarring', 6.446971084045294e-07),\n",
       " ('heavenwardly', 6.446971084045294e-07),\n",
       " ('heavenwardness', 6.446971084045294e-07),\n",
       " ('heavenwards', 6.446971084045294e-07),\n",
       " ('heavenbanished', 6.446971084045294e-07),\n",
       " ('heavenfallen', 6.446971084045294e-07),\n",
       " ('heavenful', 6.446971084045294e-07),\n",
       " ('heaventowers', 6.446971084045294e-07),\n",
       " ('heavenclouds', 6.446971084045294e-07),\n",
       " ('heavenese', 6.446971084045294e-07),\n",
       " ('heavenhood', 6.446971084045294e-07),\n",
       " ('heaver', 6.446971084045294e-07),\n",
       " ('heaveless', 6.446971084045294e-07),\n",
       " ('heavyfaced', 6.446971084045294e-07),\n",
       " ('heavyfringed', 6.446971084045294e-07),\n",
       " ('heavylooking', 6.446971084045294e-07),\n",
       " ('heavylipp', 6.446971084045294e-07),\n",
       " ('heavyheartedly', 6.446971084045294e-07),\n",
       " ('heavyheartedness', 6.446971084045294e-07),\n",
       " ('heavyheaded', 6.446971084045294e-07),\n",
       " ('heavyhanded', 6.446971084045294e-07),\n",
       " ('heavyhandedness', 6.446971084045294e-07),\n",
       " ('heavyplank', 6.446971084045294e-07),\n",
       " ('heavyback', 6.446971084045294e-07),\n",
       " ('heavyset', 6.446971084045294e-07),\n",
       " ('heavyweight', 6.446971084045294e-07),\n",
       " ('heavyweights', 6.446971084045294e-07),\n",
       " ('heavies', 6.446971084045294e-07),\n",
       " ('heavinsogme', 6.446971084045294e-07),\n",
       " ('heavisome', 6.446971084045294e-07),\n",
       " ('heavity', 6.446971084045294e-07)]"
      ]
     },
     "execution_count": 13,
     "metadata": {},
     "output_type": "execute_result"
    }
   ],
   "source": [
    "#find the suggestions\n",
    "suggestions = trie.search('heav')\n",
    "#build the suggestions probability map\n",
    "suggestions_probability = {}\n",
    "for sugg in suggestions:\n",
    "    suggestions_probability[sugg] = word_probability[sugg]\n",
    "\n",
    "sorted_suggested_words = sorted(suggestions_probability.items(), key=lambda x: x[1], reverse=True)\n",
    "sorted_suggested_words"
   ]
  },
  {
   "cell_type": "code",
   "execution_count": 14,
   "metadata": {},
   "outputs": [],
   "source": [
    "#to use inside the application\n",
    "import pickle\n",
    "with open('data.pkl' , 'wb') as f:\n",
    "    pickle.dump(word_probability , f)\n",
    "    pickle.dump(word_occurrences ,f )\n",
    "    pickle.dump(trie,f)"
   ]
  }
 ],
 "metadata": {
  "kernelspec": {
   "display_name": "env",
   "language": "python",
   "name": "python3"
  },
  "language_info": {
   "codemirror_mode": {
    "name": "ipython",
    "version": 3
   },
   "file_extension": ".py",
   "mimetype": "text/x-python",
   "name": "python",
   "nbconvert_exporter": "python",
   "pygments_lexer": "ipython3",
   "version": "3.10.11"
  }
 },
 "nbformat": 4,
 "nbformat_minor": 2
}
