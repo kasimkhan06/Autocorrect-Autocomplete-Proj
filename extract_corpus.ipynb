{
 "cells": [
  {
   "cell_type": "code",
   "execution_count": 1,
   "metadata": {},
   "outputs": [
    {
     "name": "stderr",
     "output_type": "stream",
     "text": [
      "[nltk_data] Downloading package gutenberg to\n",
      "[nltk_data]     C:\\Users\\kasim\\AppData\\Roaming\\nltk_data...\n",
      "[nltk_data]   Package gutenberg is already up-to-date!\n"
     ]
    },
    {
     "name": "stdout",
     "output_type": "stream",
     "text": [
      "Gutenberg corpus extracted and saved to: gutenberg_corpus.txt\n"
     ]
    }
   ],
   "source": [
    "import nltk\n",
    "nltk.download('gutenberg')\n",
    "\n",
    "# Get the file IDs for all books in the Gutenberg corpus\n",
    "file_ids = nltk.corpus.gutenberg.fileids()\n",
    "\n",
    "# Define the output file path\n",
    "output_file_path = \"gutenberg_corpus.txt\"\n",
    "\n",
    "# Open the output file in write mode\n",
    "with open(output_file_path, \"w\", encoding=\"utf-8\") as output_file:\n",
    "    # Iterate through each file in the Gutenberg corpus\n",
    "    for file_id in file_ids:\n",
    "        # Get the raw text of the book\n",
    "        raw_text = nltk.corpus.gutenberg.raw(file_id)\n",
    "        \n",
    "        # Write the raw text to the output file\n",
    "        output_file.write(raw_text)\n",
    "        \n",
    "print(\"Gutenberg corpus extracted and saved to:\", output_file_path)\n"
   ]
  }
 ],
 "metadata": {
  "kernelspec": {
   "display_name": "env",
   "language": "python",
   "name": "python3"
  },
  "language_info": {
   "codemirror_mode": {
    "name": "ipython",
    "version": 3
   },
   "file_extension": ".py",
   "mimetype": "text/x-python",
   "name": "python",
   "nbconvert_exporter": "python",
   "pygments_lexer": "ipython3",
   "version": "3.10.11"
  }
 },
 "nbformat": 4,
 "nbformat_minor": 2
}
